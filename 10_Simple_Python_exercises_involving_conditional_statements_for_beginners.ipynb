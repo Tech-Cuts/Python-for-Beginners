{
  "nbformat": 4,
  "nbformat_minor": 0,
  "metadata": {
    "colab": {
      "provenance": [],
      "authorship_tag": "ABX9TyNa0hl+ZygWlqPJed/VbK//",
      "include_colab_link": true
    },
    "kernelspec": {
      "name": "python3",
      "display_name": "Python 3"
    },
    "language_info": {
      "name": "python"
    }
  },
  "cells": [
    {
      "cell_type": "markdown",
      "metadata": {
        "id": "view-in-github",
        "colab_type": "text"
      },
      "source": [
        "<a href=\"https://colab.research.google.com/github/Tech-Cuts/Python-for-Beginners/blob/main/10_Simple_Python_exercises_involving_conditional_statements_for_beginners.ipynb\" target=\"_parent\"><img src=\"https://colab.research.google.com/assets/colab-badge.svg\" alt=\"Open In Colab\"/></a>"
      ]
    },
    {
      "cell_type": "markdown",
      "source": [
        "# Create Python programs to do the following:\n",
        "Simple exercises designed to get beginners familiar with conditional statements in Python programming:\n",
        "\n",
        "[Watch this on YouTube](https://youtu.be/YmOcN1phX9Q)"
      ],
      "metadata": {
        "id": "JDHw_xUEBG6m"
      }
    },
    {
      "cell_type": "markdown",
      "source": [
        "## Exercise 1: \n",
        "Write a program that asks the user to enter an integer. The program should display “Positive” if the number is greater than 0, “Negative” if the number is less than 0, and “Zero” if the number is equal to 0. The program should then display “Even” if the number is even, and “Odd” if the number is odd.\n"
      ],
      "metadata": {
        "id": "3zS2sZ0MCFHF"
      }
    },
    {
      "cell_type": "code",
      "source": [
        "number = int(input(\"Please enter an integer: \"))\n",
        "\n",
        "if number > 0:\n",
        "  print(\"Positive\")\n",
        "elif number < 0:\n",
        "  print(\"Negative\")\n",
        "elif number == 0:\n",
        "  print(\"Zero\")\n",
        "\n",
        "if number % 2:\n",
        "  print(\"Odd\")\n",
        "else:\n",
        "  print(\"Even\")"
      ],
      "metadata": {
        "colab": {
          "base_uri": "https://localhost:8080/"
        },
        "id": "XaRjNA8yCFeu",
        "outputId": "e036e794-2911-4c22-f053-739f3e808277"
      },
      "execution_count": null,
      "outputs": [
        {
          "output_type": "stream",
          "name": "stdout",
          "text": [
            "Please enter an integer: -34\n",
            "Negative\n",
            "Even\n"
          ]
        }
      ]
    },
    {
      "cell_type": "markdown",
      "source": [
        "## Exercise 2:\n",
        "The area of a rectangle is the rectangle’s length times its width. Write a program that asks or the length and width of two rectangles. The program should tell the user which rectangle has the greater area, or if the areas are the same."
      ],
      "metadata": {
        "id": "EMn3RJ1FCGr-"
      }
    },
    {
      "cell_type": "code",
      "source": [
        "length_1 = float(input(\"Please enter length of first rectangle: \"))\n",
        "width_1 = float(input(\"Please enter width of first rectangle: \"))\n",
        "length_2 = float(input(\"Please enter length of second rectangle: \"))\n",
        "width_2 = float(input(\"Please enter width of second rectangle: \"))\n",
        "\n",
        "area_1 = length_1 * width_1\n",
        "area_2 = length_2 * width_2\n",
        "\n",
        "if area_1 > area_2:\n",
        "  print(\"\\nFirst rectangle has the greater area.\")\n",
        "elif area_1 < area_2:\n",
        "  print(\"\\nSecond rectangle has the greater area.\")\n",
        "else:\n",
        "  print(\"\\nBoth rectangles have the same area.\")"
      ],
      "metadata": {
        "id": "mhj9yqJaCHHT",
        "colab": {
          "base_uri": "https://localhost:8080/"
        },
        "outputId": "aba0d542-af7b-48d4-d490-5339b58269e2"
      },
      "execution_count": null,
      "outputs": [
        {
          "output_type": "stream",
          "name": "stdout",
          "text": [
            "Please enter length of first rectangle: 7.8\n",
            "Please enter width of first rectangle: 8.3\n",
            "Please enter length of second rectangle: 34\n",
            "Please enter width of second rectangle: 2\n",
            "\n",
            "Second rectangle has the greater area.\n"
          ]
        }
      ]
    },
    {
      "cell_type": "markdown",
      "source": [
        "## Exercise 3:\n",
        "Write a program that asks the user for a month as a number between 1 and 12. The program should display a message indicating whether the month is in the first quarter, the second quarter, the third quarter, or the fourth quarter of the year. Following are the guidelines:\n",
        "\n",
        "- If the user enters either 1, 2, or 3, the month is in the first quarter.\n",
        "- If the user enters a number between 4 and 6, the month is in the second quarter.\n",
        "- If the number is either 7, 8, or 9, the month is in the third quarter.\n",
        "- If the month is between 10 and 12, the month is in the fourth quarter.\n",
        "- If the number is not between 1 and 12, the program should display an error."
      ],
      "metadata": {
        "id": "3BRkuyuTCHZA"
      }
    },
    {
      "cell_type": "code",
      "source": [
        "month = int(input(\"Please enter a month as a number between 1 and 12: \"))\n",
        "if month < 1 or month > 12:\n",
        "  print(\"Error\")\n",
        "else:  \n",
        "  if month < 4:\n",
        "    print(\"The month is in the first quarter of the year.\")\n",
        "  elif month < 7:\n",
        "    print(\"The month is in the second quarter of the year.\")\n",
        "  elif month < 10:\n",
        "    print(\"The month is in the third quarter of the year.\")\n",
        "  else:\n",
        "    print(\"The month is in the fourth quarter of the year.\")"
      ],
      "metadata": {
        "id": "NrARhI6dCHxP",
        "colab": {
          "base_uri": "https://localhost:8080/"
        },
        "outputId": "28fffe4e-f480-4d95-8b58-e24e8966d703"
      },
      "execution_count": null,
      "outputs": [
        {
          "output_type": "stream",
          "name": "stdout",
          "text": [
            "Please enter a month as a number between 1 and 12: 4\n",
            "The month is in the second quarter of the year.\n"
          ]
        }
      ]
    },
    {
      "cell_type": "markdown",
      "source": [
        "## Exercise 4:\n",
        "Write a program that prompts the user to enter a number within the range of 1 through 10. The program should display the Roman numeral version of that number. If the number is outside the range of 1 through 10, the program should display an error message. The following table shows the Roman numerals for the numbers 1 through 10:\n",
        "- 1 >> I\n",
        "- 2 >> II\n",
        "- 3 >> III\n",
        "- 4 >> IV\n",
        "- 5 >> V\n",
        "- 6 >> VI\n",
        "- 7 >> VII\n",
        "- 8 >> VIII\n",
        "- 9 >> IX\n",
        "- 10 >> X"
      ],
      "metadata": {
        "id": "8JWcIAr1CH_o"
      }
    },
    {
      "cell_type": "code",
      "source": [
        "num_to_Roman = {\"1\": \"I\", \n",
        "                \"2\": \"II\", \n",
        "                \"3\": \"III\", \n",
        "                \"4\": \"IV\", \n",
        "                \"5\": \"V\", \n",
        "                \"6\": \"VI\", \n",
        "                \"7\": \"VII\", \n",
        "                \"8\": \"VIII\", \n",
        "                \"9\": \"IX\", \n",
        "                \"10\": \"X\"}\n",
        "number = input(\"Please enter a number within the range of 1 through 10: \")\n",
        "if number not in num_to_Roman:\n",
        "  print(\"Error\")\n",
        "else:\n",
        "  print(f\"Roman numeral version of number {number} is {num_to_Roman[number]}\")"
      ],
      "metadata": {
        "id": "XM_7xc_fCIWf",
        "colab": {
          "base_uri": "https://localhost:8080/"
        },
        "outputId": "e2c5d1a7-8578-47ce-d8d0-dda5886475ff"
      },
      "execution_count": null,
      "outputs": [
        {
          "output_type": "stream",
          "name": "stdout",
          "text": [
            "Please enter a number within the range of 1 through 10: 2\n",
            "Roman numeral version of number 2 is II\n"
          ]
        }
      ]
    },
    {
      "cell_type": "markdown",
      "source": [
        "## Exercise 5:\n",
        "Scientists measure an object’s mass in kilograms and its weight in newtons. If you know the amount of mass of an object in kilograms, you can calculate its weight in newtons with the following formula:\n",
        "> weight = mass * 9.8\n",
        "\n",
        "Write a program that asks the user to enter an object’s mass, then calculates its weight. If the object weighs more than 500 newtons, display a message indicating that it is too heavy. If the object weighs less than 100 newtons, display a message indicating that it is too light."
      ],
      "metadata": {
        "id": "4eIPmwHSEOed"
      }
    },
    {
      "cell_type": "code",
      "execution_count": null,
      "metadata": {
        "id": "92O9NSfpBA_N",
        "colab": {
          "base_uri": "https://localhost:8080/"
        },
        "outputId": "d6026bc2-675a-4309-fa7a-b25126f6a688"
      },
      "outputs": [
        {
          "output_type": "stream",
          "name": "stdout",
          "text": [
            "Please enter an object’s mass: 51.03\n",
            "The object is too heavy !!!\n"
          ]
        }
      ],
      "source": [
        "mass = float(input(\"Please enter an object’s mass: \"))    # test using 10.21 and 51.02\n",
        "weight = mass * 9.8\n",
        "if weight > 500:\n",
        "  print(\"The object is too heavy !!!\")\n",
        "elif weight < 100:\n",
        "  print(\"The object is too light !!!\")\n",
        "else:\n",
        "  print(f\"The weight of the object is {round(weight, 2)}.\")"
      ]
    },
    {
      "cell_type": "markdown",
      "source": [
        "## Exercise 6:\n",
        "Magic Dates\n",
        "\n",
        "The date June 10, 1960, is special because when it is written in the following format, the month times the day equals the year:\n",
        "\n",
        "> 6/10/60\n",
        "\n",
        "Design a program that asks the user to enter a month (in numeric form), a day, and a two digit year. The program should then determine whether the month times the day equals the year. If so, it should display a message saying the date is magic. Otherwise, it should display a message saying the date is not magic. "
      ],
      "metadata": {
        "id": "6AYiBKyMFQqM"
      }
    },
    {
      "cell_type": "code",
      "source": [
        "month = int(input(\"Please enter a month as a number between 1 and 12: \"))\n",
        "day = int(input(\"Please enter a day as a number between 1 and 31: \"))\n",
        "year = int(input(\"Please enter a two-digit year: \"))\n",
        "\n",
        "if (month*day) == year:\n",
        "  print(\"The date is magic.\")\n",
        "else:\n",
        "  print(\"The date is not magic.\")"
      ],
      "metadata": {
        "colab": {
          "base_uri": "https://localhost:8080/"
        },
        "id": "QgAf7XfMGEoW",
        "outputId": "78b80754-4b2c-4f2a-dfcd-072ef0bdfe57"
      },
      "execution_count": null,
      "outputs": [
        {
          "output_type": "stream",
          "name": "stdout",
          "text": [
            "Please enter a month as a number between 1 and 12: 5\n",
            "Please enter a day as a number between 1 and 31: 10\n",
            "Please enter a two-digit year: 51\n",
            "The date is not magic.\n"
          ]
        }
      ]
    },
    {
      "cell_type": "markdown",
      "source": [
        "## Exercise 7:\n",
        "A class has two tests worth 25 points each along with a main exam worth 50 points. For a student to pass the class, they must obtain an overall score of at least 50 points, and must obtain at least 25 points in the main exam. If a student’s total score is less than 50 or they obtain less than 25 points in the main exam, they receive a grade of “Fail”. Otherwise, their grade is as follows:\n",
        " - If they get more than 80, they get a grade of “Distinction”. 50–59 = “Pass”\n",
        " - If they get less than 80 but more than 60, they get a “Credit” grade.\n",
        " - If they get less than 60, they get a ”Pass” grade.\n",
        "\n",
        "Write a program that prompts the user to enter their points for both tests and the exam and converts the values to integers. The program should first check if the points entered for the tests and exam are valid. If any of the test scores are not between 0 and 25, or the exam score is not between 0 and 50, the program should display an error message. Otherwise, the program should display the total points and the grade."
      ],
      "metadata": {
        "id": "LHPTqi2_FSp1"
      }
    },
    {
      "cell_type": "code",
      "source": [
        "grade = None\n",
        "\n",
        "test_1 = int(input(\"Please enter points for test # 1: \"))\n",
        "test_2 = int(input(\"Please enter points for test # 2: \"))\n",
        "main_exam = int(input(\"Please enter points for exam: \"))\n",
        "\n",
        "if test_1 not in range(26) or test_2 not in range(26) or main_exam not in range(51):\n",
        "  print(\"Invalid input\")\n",
        "else:\n",
        "  overall = test_1 + test_2 + main_exam\n",
        "  if ( (overall < 50) or (main_exam < 25) ):\n",
        "    grade = \"F\"\n",
        "  else:\n",
        "    if overall < 60:\n",
        "      grade = \"Pass\"\n",
        "    elif overall < 80:\n",
        "      grade = \"Credit\"\n",
        "    else:\n",
        "      grade = \"Distinction\"\n",
        "  print(f\"Your total score is {overall}, and  grade is '{grade}'.\")"
      ],
      "metadata": {
        "id": "piOa_tbSFZto",
        "colab": {
          "base_uri": "https://localhost:8080/"
        },
        "outputId": "8b6aef41-e120-4309-958c-17484500b931"
      },
      "execution_count": null,
      "outputs": [
        {
          "output_type": "stream",
          "name": "stdout",
          "text": [
            "Please enter points for test # 1: 20\n",
            "Please enter points for test # 2: 20\n",
            "Please enter points for exam: 39\n",
            "Your total score is 79, and  grade is 'Credit'.\n"
          ]
        }
      ]
    },
    {
      "cell_type": "markdown",
      "source": [
        "## Exercise 8:\n",
        "Assume hot dogs come in packages of 10, and hot dog buns come in packages of 8. Write a program that calculates the number of packages of hot dogs and the number of packages of hot dog buns needed for a cookout, with the minimum amount of leftovers. The program should ask the user for the number of people attending the cookout and the number of hot dogs each person will be given. The program should display the following details:\n",
        "\n",
        "- The minimum number of packages of hot dogs required\n",
        "- The minimum number of packages of hot dog buns required\n",
        "- The number of hot dogs that will be left over\n",
        "- The number of hot dog buns that will be left over"
      ],
      "metadata": {
        "id": "NCcTIqlvGFSG"
      }
    },
    {
      "cell_type": "code",
      "source": [
        "import math     # test with 40 and 2\n",
        "\n",
        "people = int(input(\"Please enter the number of people attending the cookout: \"))\n",
        "hot_dogs = int(input(\"Please enter the number of hot dogs each person will be given: \"))\n",
        "\n",
        "total_hot_dogs_reqd = people * hot_dogs\n",
        "\n",
        "packages_hot_dogs_reqd = math.ceil(total_hot_dogs_reqd/10)\n",
        "print(f\"The minimum number of packages of hot dogs required is {packages_hot_dogs_reqd}.\")\n",
        "\n",
        "packages_bun_reqd = math.ceil(total_hot_dogs_reqd/8)\n",
        "print(f\"The minimum number of packages of hot dogs buns required is {packages_bun_reqd}.\")\n",
        "\n",
        "left_over_hot_dogs = packages_hot_dogs_reqd*10 - total_hot_dogs_reqd\n",
        "left_over_buns = packages_bun_reqd*8 - total_hot_dogs_reqd\n",
        "print(f\"There will be {left_over_hot_dogs} hot dogs left over.\")\n",
        "print(f\"There will be {left_over_buns} hot dogs buns left over.\")"
      ],
      "metadata": {
        "id": "EmAC2uQ7GHIa",
        "colab": {
          "base_uri": "https://localhost:8080/"
        },
        "outputId": "5536ef4b-88df-4fc9-83cf-8f0cef65c439"
      },
      "execution_count": null,
      "outputs": [
        {
          "output_type": "stream",
          "name": "stdout",
          "text": [
            "Please enter the number of people attending the cookout: 56\n",
            "Please enter the number of hot dogs each person will be given: 2\n",
            "The minimum number of packages of hot dogs required is 12.\n",
            "The minimum number of packages of hot dogs buns required is 14.\n",
            "There will be 8 hot dogs left over.\n",
            "There will be 0 hot dogs buns left over.\n"
          ]
        }
      ]
    },
    {
      "cell_type": "markdown",
      "source": [
        "## Exercise 9:\n",
        "On a roulette wheel, the pockets are numbered from 0 to 36. The colors of the pockets are as follows:\n",
        "\n",
        "- Pocket 0 is green.\n",
        "- For pockets 1 through 10, the odd-numbered pockets are red and the even-numbered pockets are black.\n",
        "- For pockets 11 through 18, the odd-numbered pockets are black and the even-numbered pockets are red.\n",
        "- For pockets 19 through 28, the odd-numbered pockets are red and the even-numbered pockets are black.\n",
        "- For pockets 29 through 36, the odd-numbered pockets are black and the even-numbered pockets are red.\n",
        "\n",
        "Write a program that asks the user to enter a pocket number and displays whether the pocket is green, red, or black. The program should display an error message if the user enters a number that is outside the range of 0 through 36."
      ],
      "metadata": {
        "id": "BQF1u5h-GHnq"
      }
    },
    {
      "cell_type": "code",
      "source": [
        "pocket_num = int(input(\"Please enter pocket number: \"))\n",
        "if pocket_num not in range(37):\n",
        "  print(\"Entered pocket number is outside the range of 0 through 36.\")\n",
        "else:\n",
        "  if pocket_num == 0:\n",
        "    print(f\"Pocket {pocket_num} is green.\")\n",
        "  elif pocket_num < 11:\n",
        "    if pocket_num%2:\n",
        "      print(f\"Pocket {pocket_num} is red.\")\n",
        "    else:\n",
        "      print(f\"Pocket {pocket_num} is black.\")\n",
        "  elif pocket_num < 19:\n",
        "    if pocket_num%2:\n",
        "      print(f\"Pocket {pocket_num} is black.\")\n",
        "    else:\n",
        "      print(f\"Pocket {pocket_num} is red.\")\n",
        "  elif pocket_num < 29:\n",
        "    if pocket_num%2:\n",
        "      print(f\"Pocket {pocket_num} is red.\")\n",
        "    else:\n",
        "      print(f\"Pocket {pocket_num} is black.\")\n",
        "  else:\n",
        "    if pocket_num%2:\n",
        "      print(f\"Pocket {pocket_num} is black.\")\n",
        "    else:\n",
        "      print(f\"Pocket {pocket_num} is red.\")"
      ],
      "metadata": {
        "id": "zg8hqaWOGJO8",
        "colab": {
          "base_uri": "https://localhost:8080/"
        },
        "outputId": "de404a9e-ebeb-440f-b145-ba5e317c11b8"
      },
      "execution_count": null,
      "outputs": [
        {
          "output_type": "stream",
          "name": "stdout",
          "text": [
            "Please enter pocket number: 19\n",
            "Pocket 19 is red.\n"
          ]
        }
      ]
    },
    {
      "cell_type": "markdown",
      "source": [
        "## Exercise 10:\n",
        "Create a change-counting game that gets the user to enter the number of coins required to make exactly one dollar. The program should prompt the user to enter the number of pennies, nickels, dimes, and quarters. If the total value of the coins entered is equal to one dollar, the program should congratulate the user for winning the game. Otherwise, the program should display a message indicating whether the amount entered was more than or less than one dollar."
      ],
      "metadata": {
        "id": "kGrQDRBrGJh8"
      }
    },
    {
      "cell_type": "code",
      "source": [
        "pennies = int(input(\"Please enter number of pennies: \"))\n",
        "nickels = int(input(\"Please enter number of nickels: \"))\n",
        "dimes = int(input(\"Please enter number of dimes: \"))\n",
        "quarters = int(input(\"Please enter number of quarters: \"))\n",
        "\n",
        "total = pennies + (nickels*5) + (dimes*10) + (quarters*25)\n",
        "\n",
        "if total == 100:\n",
        "  print(\"Congratulations for winning the game! The total value of the coins entered is equal to one dollar\")\n",
        "elif total < 100:\n",
        "  print(\"The amount entered was less than one dollar.\")\n",
        "else:\n",
        "  print(\"The amount entered was more than one dollar.\")"
      ],
      "metadata": {
        "id": "cRL42M0sGLpw",
        "colab": {
          "base_uri": "https://localhost:8080/"
        },
        "outputId": "1f27e16f-2dee-489b-98ca-2858556bd1c8"
      },
      "execution_count": null,
      "outputs": [
        {
          "output_type": "stream",
          "name": "stdout",
          "text": [
            "Please enter number of pennies: 100\n",
            "Please enter number of nickels: 2\n",
            "Please enter number of dimes: 0\n",
            "Please enter number of quarters: 0\n",
            "The amount entered was more than one dollar.\n"
          ]
        }
      ]
    }
  ]
}