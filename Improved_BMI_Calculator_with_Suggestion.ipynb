{
  "nbformat": 4,
  "nbformat_minor": 0,
  "metadata": {
    "colab": {
      "name": "Improved BMI Calculator with Suggestion.ipynb",
      "provenance": [],
      "collapsed_sections": [],
      "authorship_tag": "ABX9TyNHJXXoaBNylW9jcc12CWaU",
      "include_colab_link": true
    },
    "kernelspec": {
      "name": "python3",
      "display_name": "Python 3"
    },
    "language_info": {
      "name": "python"
    }
  },
  "cells": [
    {
      "cell_type": "markdown",
      "metadata": {
        "id": "view-in-github",
        "colab_type": "text"
      },
      "source": [
        "<a href=\"https://colab.research.google.com/github/ComputingUntangled/Python-for-Beginners/blob/main/Improved_BMI_Calculator_with_Suggestion.ipynb\" target=\"_parent\"><img src=\"https://colab.research.google.com/assets/colab-badge.svg\" alt=\"Open In Colab\"/></a>"
      ]
    },
    {
      "cell_type": "markdown",
      "source": [
        "# Introduction"
      ],
      "metadata": {
        "id": "u8et3O6Jr4Og"
      }
    },
    {
      "cell_type": "markdown",
      "source": [
        "Click [here](https://www.youtube.com/watch?v=tuqQdm6-uGU) to watch this tutorial on YouTube."
      ],
      "metadata": {
        "id": "da4_iNVyigHi"
      }
    },
    {
      "cell_type": "markdown",
      "source": [
        "Hello and welcome back!\n",
        "\n",
        "Often time, when we look at BMI calculator or more specifically, see other programmers' code for BMI calculator, the BMI calculator calculates the BMI value, and prints the BMI value as an output to the user. However, they do not show what that value mean, and what it is actually trying to tell us about our weight. In that sense, there is very little practical application of the software.\n",
        "\n",
        "So in this tutorial, we will learn how to create an improved BMI calculator, that will not only show typical BMI value, but also show the normal body weight-range for a given height, whether we are under-weight, overweight, and what needs to be done to get the weight to the normal range if not already in normal range. This will make the BMI output friendlier to the user, as well as give a practical purpose to the BMI calculator.\n",
        "\n",
        "Let's get started."
      ],
      "metadata": {
        "id": "IfzIDmFw23zH"
      }
    },
    {
      "cell_type": "markdown",
      "source": [
        "Body mass index (BMI) is WHO recommended index of body weight given a height. \n",
        "\n",
        "It is commonly used to classify overweight and obesity for both men and women, age 18 or older. \n",
        "\n",
        "It is defined as a person’s weight in kilograms divided by the square of his/her height in meters (kg/m²). \n",
        "\n",
        "In adults, overweight is defined as a BMI of 25 or more, whereas obesity is a BMI of 30 or more.\n",
        "\n",
        "Take a look at this sequntial program that calculates BMI and prints information regarding obesity."
      ],
      "metadata": {
        "id": "Zp0kUV-yopsQ"
      }
    },
    {
      "cell_type": "markdown",
      "source": [
        "# Sequential Program"
      ],
      "metadata": {
        "id": "UB20mChVr8_y"
      }
    },
    {
      "cell_type": "code",
      "source": [
        "def bmi(weight, height):\n",
        "    return weight / height ** 2\n",
        "\n",
        "\n",
        "print(bmi(52.5, 1.65))\n"
      ],
      "metadata": {
        "colab": {
          "base_uri": "https://localhost:8080/"
        },
        "id": "TJkp-jze0BrF",
        "outputId": "e4246187-6b92-4ded-facf-9584126871c4"
      },
      "execution_count": null,
      "outputs": [
        {
          "output_type": "stream",
          "name": "stdout",
          "text": [
            "19.283746556473833\n"
          ]
        }
      ]
    },
    {
      "cell_type": "code",
      "source": [
        "height_cm = float(input(\"Enter your height in centimeters: \"))\n",
        "weight_Kg = float(input(\"Enter your weight in Kg.: \"))\n",
        "height_m = height_cm/100\n",
        "\n",
        "bmi = round(weight_Kg/(height_m**2), 2)\n",
        "\n",
        "print(\"Your Body Mass Index (BMI) is: \", bmi)\n",
        "if bmi > 0:\n",
        "  if bmi < 16:\n",
        "    print(\"You are mal-nutritioned.\")\n",
        "  elif(bmi < 18.5):\n",
        "    print(\"You are underweight.\")\n",
        "  elif(bmi < 25):\n",
        "    print(\"You have normal weight.\")\n",
        "  elif(bmi < 30):\n",
        "    print(\"You are overweight.\")\n",
        "  else:\n",
        "    print(\"You are obese.\")\n",
        "else:\n",
        "  print(\"Enter valid information.\")"
      ],
      "metadata": {
        "colab": {
          "base_uri": "https://localhost:8080/"
        },
        "id": "lEkPverKrX6q",
        "outputId": "38101653-508f-4b1b-d4fe-89a4b029e585"
      },
      "execution_count": null,
      "outputs": [
        {
          "output_type": "stream",
          "name": "stdout",
          "text": [
            "Enter your height in centimeters: 180\n",
            "Enter your weight in Kg.: 80.99\n",
            "Your Body Mass Index (BMI) is:  25.0\n",
            "You are overweight.\n"
          ]
        }
      ]
    },
    {
      "cell_type": "markdown",
      "source": [
        "We can use this program as starting framework to convert this into functional programming using user-defined functions."
      ],
      "metadata": {
        "id": "Snw9TQlBt-6C"
      }
    },
    {
      "cell_type": "markdown",
      "source": [
        "# Using Functions"
      ],
      "metadata": {
        "id": "xsdDmOdgsDO_"
      }
    },
    {
      "cell_type": "code",
      "execution_count": null,
      "metadata": {
        "colab": {
          "base_uri": "https://localhost:8080/"
        },
        "id": "unSEakM2bCEg",
        "outputId": "f727c60e-d030-4793-8cb8-cffef8ceeea2"
      },
      "outputs": [
        {
          "output_type": "stream",
          "name": "stdout",
          "text": [
            "Enter your height in centimeters: 180\n",
            "Enter your weight in Kg.: 80.99\n",
            "\n",
            "Your Body Mass Index (BMI) is: 25.0\n",
            "You are overweight.\n",
            "Normal weight range for your height is: 59.97 Kg. - 80.97 Kg.\n",
            "You should shed 0.02 Kg. to be normal weight.\n"
          ]
        }
      ],
      "source": [
        "def get_height_weight():\n",
        "  height_cm = float(input(\"Enter your height in centimeters: \"))\n",
        "  weight_Kg = float(input(\"Enter your weight in Kg.: \"))\n",
        "  height_m = height_cm/100\n",
        "  return height_m, weight_Kg\n",
        "\n",
        "def calculate_bmi(height_m, weight_Kg):\n",
        "  bmi = round(weight_Kg/(height_m**2), 2)  \n",
        "  print(\"\\nYour Body Mass Index (BMI) is:\", bmi)\n",
        "  return bmi\n",
        "\n",
        "def obesity_info(bmi):\n",
        "  if bmi > 0:\n",
        "    if bmi < 16:\n",
        "      print(\"You are mal-nutritioned.\")\n",
        "    elif(bmi < 18.5):\n",
        "      print(\"You are underweight.\")\n",
        "    elif(bmi < 25):\n",
        "      print(\"You have normal weight.\")\n",
        "    elif(bmi < 30):\n",
        "      print(\"You are overweight.\")\n",
        "    else:\n",
        "      print(\"You are obese.\")\n",
        "  else:\n",
        "    print(\"Enter valid information.\")\n",
        "\n",
        "def find_normal_weight_range(height_m):\n",
        "  min = round(18.51 * (height_m**2), 2)\n",
        "  max = round(24.99 * (height_m**2), 2)\n",
        "  print(\"Normal weight range for your height is:\", min, \"Kg. -\", max, \"Kg.\")\n",
        "  return min, max\n",
        "\n",
        "def suggest(bmi, weight_Kg, min, max):\n",
        "  if bmi < 18.5:\n",
        "    need = round(min - weight_Kg, 2)\n",
        "    print(\"You should gain\", need, \"Kg. to be normal weight.\")\n",
        "  elif bmi >= 25:\n",
        "    shed = round(weight_Kg - max, 2)\n",
        "    print(\"You should shed\", shed, \"Kg. to be normal weight.\")\n",
        "\n",
        "def run_bmi_calculator():\n",
        "  height_m, weight_Kg = get_height_weight()\n",
        "  bmi = calculate_bmi(height_m, weight_Kg)\n",
        "  obesity_info(bmi)\n",
        "  min, max = find_normal_weight_range(height_m)\n",
        "  suggest(bmi, weight_Kg, min, max)\n",
        "\n",
        "\n",
        "# main body of the program with single function call\n",
        "run_bmi_calculator()"
      ]
    }
  ]
}