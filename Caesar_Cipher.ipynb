{
  "nbformat": 4,
  "nbformat_minor": 0,
  "metadata": {
    "colab": {
      "name": "Caesar Cipher.ipynb",
      "provenance": [],
      "collapsed_sections": [
        "0_oEUWFgVeiG",
        "pbCv5RF3V1lG",
        "UQGDUxj_Uvpy",
        "ssbmVltx-M0u"
      ],
      "authorship_tag": "ABX9TyPYTHQpdDk4ZEcuvjP8yrIf",
      "include_colab_link": true
    },
    "kernelspec": {
      "name": "python3",
      "display_name": "Python 3"
    },
    "language_info": {
      "name": "python"
    }
  },
  "cells": [
    {
      "cell_type": "markdown",
      "metadata": {
        "id": "view-in-github",
        "colab_type": "text"
      },
      "source": [
        "<a href=\"https://colab.research.google.com/github/ComputingUntangled/Python-for-Beginners/blob/main/Caesar_Cipher.ipynb\" target=\"_parent\"><img src=\"https://colab.research.google.com/assets/colab-badge.svg\" alt=\"Open In Colab\"/></a>"
      ]
    },
    {
      "cell_type": "markdown",
      "source": [
        "# Caesar Cipher"
      ],
      "metadata": {
        "id": "IUqeD4S7Y_ff"
      }
    },
    {
      "cell_type": "markdown",
      "source": [
        "## Introduction"
      ],
      "metadata": {
        "id": "-MkBjtiEkbsg"
      }
    },
    {
      "cell_type": "markdown",
      "source": [
        "Hello and welcome back!\n",
        "\n",
        "In this tutorial, we will create user-defined functions to take plain-text and scramble it using Caesar cipher. By the end of this tutorial, you will be able to create Caesar cipher that is able to handle upper case letters, lower case letters, and symbols. We will be able to encrypt plain-text provided by the user into cipher-text, as well as decript and get the original plain-text back from the cipher-text.\n",
        "\n",
        "For this tutorial, I will use slicing technique. But we can get the same outcome with other methods as well. \n",
        "\n",
        "Before we beging with the coding, lets get the basic understanding of Caesar cipher.\n",
        "\n",
        "Caesar cipher is one of the simplest and most widely known encryption techniques. Caesar cipher is basicaly a type of substitution cipher in which each letter in the plaintext is replaced by another letter given by a fixed offset value.\n",
        "\n",
        "For example, with a left shift of 3, A would be replaced by D, B with E, and so on.\n",
        "\n",
        ">A B C D E F G H I J K L M N O P Q R S T U V W X Y Z<br>\n",
        ">D E F G H I J K L M N O P Q R S T U V W X Y Z A B C \n",
        "\n",
        "\n",
        "With a right shift of 3, D would be replaced by A, E with B, and so on.\n",
        "\n",
        ">A B C D E F G H I J K L M N O P Q R S T U V W X Y Z<br>\n",
        ">X Y Z A B C D E F G H I J K L M N O P Q R S T U V W \n",
        "\n",
        "\n",
        "\n",
        "Just want to add that the Caesar cipher can easily be broken and therefore, offers no communications security today. For that reason, this tutorial is only useful for learning purpose, and is not meant to be used in actual cryptography."
      ],
      "metadata": {
        "id": "ULSAVeq4iz37"
      }
    },
    {
      "cell_type": "markdown",
      "source": [
        "## Method #1: Using Slicing Technique"
      ],
      "metadata": {
        "id": "z9rwHmNS_1Cr"
      }
    },
    {
      "cell_type": "markdown",
      "source": [
        "### Step 1: Basics"
      ],
      "metadata": {
        "id": "0_oEUWFgVeiG"
      }
    },
    {
      "cell_type": "code",
      "source": [
        "# offset = -3    # left shift of 3, A would be replaced by D, B with E, and so on\n",
        "# offset = 3     # right shift of 3, D would be replaced by A, E with B, and so on\n",
        "\n",
        "letters = \"ABCDEFGHIJKLMNOPQRSTUVWXYZ\"\n",
        "\n",
        "# plain_text = \"THE QUICK BROWN FOX JUMPS OVER THE LAZY DOG.\"\n",
        "plain_text = \"ABCDEFGHIJKLMNOPQRSTUVWXYZ\"\n",
        "offset = 3\n",
        "\n",
        "cipher_text = []\n",
        "\n",
        "if offset < 0:\n",
        "    shifted_letters = letters[abs(offset):] + letters[:abs(offset)]\n",
        "elif offset > 0:\n",
        "    shifted_letters = letters[-offset:] + letters[:-offset]\n",
        "else:\n",
        "    shifted_letters = letters\n",
        "\n",
        "for text in plain_text:\n",
        "    for i in range(26):\n",
        "      if text == letters[i]:\n",
        "        cipher_text.append(shifted_letters[i])\n",
        "\n",
        "\n",
        "for item in cipher_text:\n",
        "    print(item, end=\"\")"
      ],
      "metadata": {
        "colab": {
          "base_uri": "https://localhost:8080/"
        },
        "id": "2ymtEP72Vksh",
        "outputId": "dfd9eaaa-cf08-49c6-f4a8-ea368c4c6a3f"
      },
      "execution_count": null,
      "outputs": [
        {
          "output_type": "stream",
          "name": "stdout",
          "text": [
            "XYZABCDEFGHIJKLMNOPQRSTUVW"
          ]
        }
      ]
    },
    {
      "cell_type": "markdown",
      "source": [
        "### Step 2: Modifying code to handle upper case as well as lower case"
      ],
      "metadata": {
        "id": "pbCv5RF3V1lG"
      }
    },
    {
      "cell_type": "code",
      "source": [
        "# offset = -3    # left shift of 3, A would be replaced by D, B with E, and so on\n",
        "# offset = 3     # right shift of 3, D would be replaced by A, E with B, and so on\n",
        "\n",
        "letters = \"ABCDEFGHIJKLMNOPQRSTUVWXYZ\"\n",
        "\n",
        "# plain_text = \"THE QUICK BROWN FOX JUMPS OVER THE LAZY DOG.\"\n",
        "plain_text = \"aBCDEFGHIJKLMNOPQRSTUvWXYZ\"\n",
        "offset = 3\n",
        "\n",
        "cipher_text = []\n",
        "\n",
        "if offset < 0:\n",
        "    shifted_letters = letters[abs(offset):] + letters[:abs(offset)]\n",
        "elif offset > 0:\n",
        "    shifted_letters = letters[-offset:] + letters[:-offset]\n",
        "else:\n",
        "    shifted_letters = letters\n",
        "\n",
        "letters = letters + letters.lower()                         # lower case letters\n",
        "shifted_letters = shifted_letters + shifted_letters.lower() # lower case \n",
        "\n",
        "for text in plain_text:\n",
        "    for i in range(52):                                     # 26*2 \n",
        "      if text == letters[i]:\n",
        "        cipher_text.append(shifted_letters[i])\n",
        "\n",
        "for item in cipher_text:\n",
        "    print(item, end=\"\")"
      ],
      "metadata": {
        "colab": {
          "base_uri": "https://localhost:8080/"
        },
        "id": "C-n4gVhW_8My",
        "outputId": "886173a1-f8c7-4aa0-d400-7cc58286017c"
      },
      "execution_count": null,
      "outputs": [
        {
          "output_type": "stream",
          "name": "stdout",
          "text": [
            "ABCDEFGHIJKLMNOPQRSTUVWXYZabcdefghijklmnopqrstuvwxyz\n",
            "XYZABCDEFGHIJKLMNOPQRSTUVWxyzabcdefghijklmnopqrstuvw\n",
            "xYZABCDEFGHIJKLMNOPQRsTUVW"
          ]
        }
      ]
    },
    {
      "cell_type": "markdown",
      "source": [
        "### Step 3: Next, we will modify our code to be able to handle symbols in plain-text (e.g. hyphens and full-stops)."
      ],
      "metadata": {
        "id": "qU6NCaN_UV5_"
      }
    },
    {
      "cell_type": "markdown",
      "source": [
        "We will add a logic that will do the offset only if alphabet is encountered. For text that are not alphabets, it will simply not convert to cipher-text."
      ],
      "metadata": {
        "id": "ZHCm5OEo15Xx"
      }
    },
    {
      "cell_type": "code",
      "source": [
        "# offset = -3    # left shift of 3, A would be replaced by D, B with E, and so on\n",
        "# offset = 3     # right shift of 3, D would be replaced by A, E with B, and so on\n",
        "\n",
        "letters = \"ABCDEFGHIJKLMNOPQRSTUVWXYZ\"\n",
        "\n",
        "# plain_text = \"THE QUICK BROWN FOX JUMPS OVER THE LAZY DOG.\"\n",
        "plain_text = \"AB-CDEFGHIJKLMNOPQRSTUvWXYZ\"\n",
        "offset = 3\n",
        "\n",
        "cipher_text = []\n",
        "\n",
        "if offset < 0:\n",
        "    shifted_letters = letters[abs(offset):] + letters[:abs(offset)]\n",
        "elif offset > 0:\n",
        "    shifted_letters = letters[-offset:] + letters[:-offset]\n",
        "else:\n",
        "    shifted_letters = letters\n",
        "\n",
        "letters = letters + letters.lower()                         \n",
        "shifted_letters = shifted_letters + shifted_letters.lower() \n",
        "\n",
        "for text in plain_text:\n",
        "  if text.isalpha():                        # check if text item is alphabet\n",
        "      for i in range(52):\n",
        "          if text == letters[i]:\n",
        "              cipher_text.append(shifted_letters[i])\n",
        "  else:                                     # append text/symbol, if not alphabet\n",
        "      cipher_text.append(text)\n",
        "\n",
        "for item in cipher_text:\n",
        "    print(item, end=\"\")"
      ],
      "metadata": {
        "colab": {
          "base_uri": "https://localhost:8080/"
        },
        "id": "5n335ebjX3DD",
        "outputId": "47b104c6-94f2-4bdc-b344-0248d164c04c"
      },
      "execution_count": null,
      "outputs": [
        {
          "output_type": "stream",
          "name": "stdout",
          "text": [
            "XY-ZABCDEFGHIJKLMNOPQRsTUVW"
          ]
        }
      ]
    },
    {
      "cell_type": "markdown",
      "source": [
        "### Step 4: Updating to Functions"
      ],
      "metadata": {
        "id": "r7qYLDgBWyq1"
      }
    },
    {
      "cell_type": "markdown",
      "source": [
        "Now we are ready to implement this code as separate functions."
      ],
      "metadata": {
        "id": "YXcHTJrHWx4N"
      }
    },
    {
      "cell_type": "code",
      "source": [
        "def get_plain_text():\n",
        "    # plain_text = \"THE QUICK BROWN FOX JUMPS OVER THE LAZY DOG.\"\n",
        "    plain_text = input(\"Enter your plain-text for encryption: \")\n",
        "    return plain_text\n",
        "\n",
        "def get_offset():\n",
        "    # offset = -3    # left shift of 3, A would be replaced by D, B with E...\n",
        "    # offset = 3     # right shift of 3, D would be replaced by A, E with B...\n",
        "    offset = int(input(\"Enter offset value (e.g. '3' or '-3'): \"))\n",
        "    return offset\n",
        "\n",
        "def caesar_cipher(plain_text, offset):\n",
        "    letters = \"ABCDEFGHIJKLMNOPQRSTUVWXYZ\"\n",
        "    cipher_text = []\n",
        "\n",
        "    if offset < 0:\n",
        "        shifted_letters = letters[abs(offset):] + letters[:abs(offset)]\n",
        "    elif offset > 0:\n",
        "        shifted_letters = letters[-offset:] + letters[:-offset]\n",
        "    else:\n",
        "        shifted_letters = letters\n",
        "\n",
        "    letters = letters + letters.lower()                         \n",
        "    shifted_letters = shifted_letters + shifted_letters.lower()\n",
        "\n",
        "    for text in plain_text:\n",
        "      if text.isalpha():                        \n",
        "          for i in range(52):\n",
        "              if text == letters[i]:\n",
        "                  cipher_text.append(shifted_letters[i])\n",
        "      else:                                     \n",
        "          cipher_text.append(text)\n",
        "\n",
        "    # print(cipher_text)\n",
        "    for item in cipher_text:\n",
        "        print(item, end=\"\")\n",
        "\n",
        "\n",
        "# function call\n",
        "pt = get_plain_text()\n",
        "offset = get_offset()\n",
        "ct = caesar_cipher(pt, offset)"
      ],
      "metadata": {
        "colab": {
          "base_uri": "https://localhost:8080/"
        },
        "id": "la9es6LMW4Lt",
        "outputId": "385ddeda-8043-453e-88e8-60b8dc97bc02"
      },
      "execution_count": null,
      "outputs": [
        {
          "output_type": "stream",
          "name": "stdout",
          "text": [
            "Enter your plain-text for encryption: ABCDEFGHIJKLMNOPQRSTUVWxyz\n",
            "Enter offset value (e.g. '3' or '-3'): -3\n",
            "DEFGHIJKLMNOPQRSTUVWXYZabc"
          ]
        }
      ]
    },
    {
      "cell_type": "markdown",
      "source": [
        "### Step 5: Next, we will make our function call more compact, and also use modulo to fix an issue that appears when offset is more than 26. Finally, we will test our code with:\n",
        ">`plain_text = \"THE QUICK BROWN FOX JUMPS OVER THE LAZY DOG.\"`"
      ],
      "metadata": {
        "id": "UIR8n-xrWhdA"
      }
    },
    {
      "cell_type": "code",
      "source": [
        "def get_plain_text():\n",
        "    return input(\"Enter your plain-text for encryption: \")\n",
        "\n",
        "\n",
        "def get_offset():\n",
        "    return int(input(\"Enter offset value (e.g. '3' or '-3'): \")) % 26\n",
        "\n",
        "\n",
        "def caesar_cipher(plain_text, offset):\n",
        "    letters = \"ABCDEFGHIJKLMNOPQRSTUVWXYZ\"\n",
        "    cipher_text = []\n",
        "\n",
        "    if offset < 0: shifted_letters = letters[abs(offset):] + letters[:abs(offset)]\n",
        "    elif offset > 0: shifted_letters = letters[-offset:] + letters[:-offset]\n",
        "    else: shifted_letters = letters\n",
        "\n",
        "    letters += letters.lower()\n",
        "    shifted_letters += shifted_letters.lower()\n",
        "\n",
        "    for text in plain_text:\n",
        "        if text.isalpha():\n",
        "            for i in range(52):\n",
        "                if text == letters[i]: cipher_text.append(shifted_letters[i])\n",
        "        else: cipher_text.append(text)\n",
        "\n",
        "    # print(cipher_text)\n",
        "    for item in cipher_text: print(item, end=\"\")\n",
        "\n",
        "    return cipher_text\n",
        "\n",
        "\n",
        "# function call\n",
        "caesar_cipher(get_plain_text(), get_offset())"
      ],
      "metadata": {
        "colab": {
          "base_uri": "https://localhost:8080/"
        },
        "id": "HXk8bm9UWgRw",
        "outputId": "38d2bad9-979c-491b-b79e-14e8796ed805"
      },
      "execution_count": null,
      "outputs": [
        {
          "output_type": "stream",
          "name": "stdout",
          "text": [
            "Enter your plain-text for encryption: The Quick-Brown Fox Jumps Over The Lazy Dog.\n",
            "Enter offset value (e.g. '3' or '-3'): 3\n",
            "Qeb Nrfzh-Yoltk Clu Grjmp Lsbo Qeb Ixwv Ald."
          ]
        }
      ]
    },
    {
      "cell_type": "markdown",
      "source": [
        "### Test our code for encryption and decription"
      ],
      "metadata": {
        "id": "5Smk8JpFcjuo"
      }
    },
    {
      "cell_type": "code",
      "source": [
        "pt = \"The Quick-Brown Fox Jumps Over The Lazy Dog.\"\n",
        "caesar_cipher(pt, 3)"
      ],
      "metadata": {
        "colab": {
          "base_uri": "https://localhost:8080/"
        },
        "id": "CexqR9eqc5T_",
        "outputId": "0da9e16a-f12d-43a4-b14c-dc21655f536d"
      },
      "execution_count": null,
      "outputs": [
        {
          "output_type": "stream",
          "name": "stdout",
          "text": [
            "Qeb Nrfzh-Yoltk Clu Grjmp Lsbo Qeb Ixwv Ald."
          ]
        }
      ]
    },
    {
      "cell_type": "code",
      "source": [
        "caesar_cipher(\"Qeb Nrfzh-Yoltk Clu Grjmp Lsbo Qeb Ixwv Ald.\", -3)"
      ],
      "metadata": {
        "colab": {
          "base_uri": "https://localhost:8080/"
        },
        "id": "C5nMaCXJdRJu",
        "outputId": "25a415b1-487b-49cd-9554-05fab4f42326"
      },
      "execution_count": null,
      "outputs": [
        {
          "output_type": "stream",
          "name": "stdout",
          "text": [
            "The Quick-Brown Fox Jumps Over The Lazy Dog."
          ]
        }
      ]
    },
    {
      "cell_type": "markdown",
      "source": [
        "\n",
        "\n",
        "---\n",
        "\n"
      ],
      "metadata": {
        "id": "9scV16AWeFnF"
      }
    },
    {
      "cell_type": "markdown",
      "source": [
        "## Method #2: Using ord() and chr() functions"
      ],
      "metadata": {
        "id": "UQGDUxj_Uvpy"
      }
    },
    {
      "cell_type": "markdown",
      "source": [
        "### Right Shifting"
      ],
      "metadata": {
        "id": "ssbmVltx-M0u"
      }
    },
    {
      "cell_type": "code",
      "execution_count": null,
      "metadata": {
        "colab": {
          "base_uri": "https://localhost:8080/"
        },
        "id": "0D2YlP6PY8m0",
        "outputId": "bdd7e98b-c5e8-4697-f9b0-4c587505761d"
      },
      "outputs": [
        {
          "output_type": "stream",
          "name": "stdout",
          "text": [
            "QEB\u001dNRF@H*?OLTK+++"
          ]
        }
      ],
      "source": [
        "# ASSIC VALUE FOR UPPER CASE ALPHABETS (\"ABCDEFGHIJKLMNOPQRSTUVWXYZ\") =  65-90\n",
        "# ASSIC VALUE FOR LOWER CASE ALPHABETS (\"abcdefghijklmnopqrstuvwxyz\") =  97-122\n",
        "# use ord() and chr() functions to switch between character and its ASSIC value\n",
        "\n",
        "plain_text = \"THE QUICK-BROWN...\"\n",
        "offset = 3    # right shift of 3, D would be replaced by A, E with B, and so on\n",
        "cipher_text = []\n",
        "\n",
        "for text in plain_text:\n",
        "  new_value = ord(text) - offset\n",
        "  cipher_text.append(chr(new_value))\n",
        "\n",
        "for item in cipher_text:\n",
        "  print(item, end = \"\")"
      ]
    },
    {
      "cell_type": "markdown",
      "source": [
        "As you can see from the output above, our code does not take care of symbols and spaces between words. It also does not rotate the first few letters (\"A\",\"B\", \"C\") when offsetting. \n",
        "\n",
        "Let's take care of the symbols and space first. We will add a logic that will do the offset only if alphabet is encountered. For text that are not alphabets, it will simply not conver to cipher-text."
      ],
      "metadata": {
        "id": "cJxyFn1glIan"
      }
    },
    {
      "cell_type": "code",
      "source": [
        "plain_text = \"THE QUICK BROWN...\"\n",
        "offset = 3    # right shift of 3, D would be replaced by A, E with B, and so on\n",
        "cipher_text = []\n",
        "\n",
        "for text in plain_text:\n",
        "  if text.isalpha():\n",
        "    new_value = ord(text) - offset\n",
        "    cipher_text.append(chr(new_value))\n",
        "  else:\n",
        "    cipher_text.append(text)\n",
        "\n",
        "for item in cipher_text:\n",
        "  print(item, end = \"\")"
      ],
      "metadata": {
        "colab": {
          "base_uri": "https://localhost:8080/"
        },
        "id": "BY5sesHflTfW",
        "outputId": "c9f1c4e0-2add-4458-b173-14c7d7f2e412"
      },
      "execution_count": null,
      "outputs": [
        {
          "output_type": "stream",
          "name": "stdout",
          "text": [
            "QEB NRF@H ?OLTK..."
          ]
        }
      ]
    },
    {
      "cell_type": "markdown",
      "source": [
        "With that out of the way, now let's take care of rotating the first n letters."
      ],
      "metadata": {
        "id": "1NfH_ccDnFOa"
      }
    },
    {
      "cell_type": "code",
      "source": [
        "UPPER_CASE = \"ABCDEFGHIJKLMNOPQRSTUVWXYZ\"\n",
        "\n",
        "plain_text = \"THE QUICK BROWN FOX JUMPS OVER THE LAZY DOG.\"\n",
        "offset = 3    # right shift of 3, D would be replaced by A, E with B, and so on\n",
        "cipher_text = []\n",
        "\n",
        "for text in plain_text:\n",
        "  if text.isalpha():\n",
        "      if offset > 0:\n",
        "        if text.upper() in UPPER_CASE[0: offset]:\n",
        "          for n in range(0, offset):\n",
        "            if text.upper() == UPPER_CASE[n]:\n",
        "              new_value = UPPER_CASE[n - offset]\n",
        "              cipher_text.append(new_value)\n",
        "        else:\n",
        "          new_value = ord(text) - offset\n",
        "          cipher_text.append(chr(new_value))\n",
        "      \n",
        "  else:\n",
        "    cipher_text.append(text)\n",
        "\n",
        "for item in cipher_text:\n",
        "  print(item, end = \"\")"
      ],
      "metadata": {
        "colab": {
          "base_uri": "https://localhost:8080/"
        },
        "id": "-jseSIgcnT7q",
        "outputId": "947c6a98-798a-4f80-c470-2463a04af9cd"
      },
      "execution_count": null,
      "outputs": [
        {
          "output_type": "stream",
          "name": "stdout",
          "text": [
            "QEB NRFZH YOLTK CLU GRJMP LSBO QEB IXWV ALD."
          ]
        }
      ]
    },
    {
      "cell_type": "markdown",
      "source": [
        "### Adding Left Shifting"
      ],
      "metadata": {
        "id": "e98POlL9-Vkl"
      }
    },
    {
      "cell_type": "markdown",
      "source": [
        "Even with this, it only tackles half the problem, because we also need to consider offsetting to the left, and special situation when offset is 0."
      ],
      "metadata": {
        "id": "5ZFUuwFU8Bhq"
      }
    },
    {
      "cell_type": "code",
      "source": [
        "UPPER_CASE = \"ABCDEFGHIJKLMNOPQRSTUVWXYZ\"\n",
        "\n",
        "plain_text = \"THE QUICK BROWN FOX JUMPS OVER THE LAZY DOG.\"\n",
        "offset = -3    # left shift of 3, A would be replaced by D, B with E, and so on\n",
        "cipher_text = []\n",
        "\n",
        "# def caesar_cipher(plain_text, offset):\n",
        "for text in plain_text:\n",
        "  if text.isalpha():\n",
        "      if offset > 0:\n",
        "        if text.upper() in UPPER_CASE[0: offset]:\n",
        "          for n in range(0, offset):\n",
        "            if text.upper() == UPPER_CASE[n]:\n",
        "              new_value = UPPER_CASE[n - offset]\n",
        "              cipher_text.append(new_value)\n",
        "        else:\n",
        "          new_value = ord(text) - offset\n",
        "          cipher_text.append(chr(new_value))\n",
        "      elif offset == 0:\n",
        "        cipher_text.append(text)\n",
        "      elif offset < 0:\n",
        "        if text.upper() in UPPER_CASE[offset:]:\n",
        "          for n in range(offset, 0):\n",
        "            if text.upper() == UPPER_CASE[n]:\n",
        "              new_value = UPPER_CASE[n - offset]\n",
        "              cipher_text.append(new_value)\n",
        "        else:\n",
        "          new_value = ord(text) - offset\n",
        "          cipher_text.append(chr(new_value))\n",
        "  else:\n",
        "    cipher_text.append(text)\n",
        "\n",
        "for item in cipher_text:\n",
        "  print(item, end = \"\")\n",
        "\n",
        "  # for alphabet in range(97, 123)"
      ],
      "metadata": {
        "colab": {
          "base_uri": "https://localhost:8080/"
        },
        "id": "sTIFb37K-EPX",
        "outputId": "e5674f33-7280-4468-ea34-fed1f9d3cfd1"
      },
      "execution_count": null,
      "outputs": [
        {
          "output_type": "stream",
          "name": "stdout",
          "text": [
            "WKH TXLFN EURZQ IRA MXPSV RYHU WKH ODCB GRJ."
          ]
        }
      ]
    },
    {
      "cell_type": "markdown",
      "source": [
        "### Adding functions"
      ],
      "metadata": {
        "id": "tLOhue6gKaqe"
      }
    },
    {
      "cell_type": "markdown",
      "source": [
        "Now we are ready to implement this code as separate functions."
      ],
      "metadata": {
        "id": "ufmyCZHEDzHi"
      }
    },
    {
      "cell_type": "code",
      "source": [
        "def get_plain_text():\n",
        "    plain_text = \"THE QUICK BROWN FOX JUMPS OVER THE LAZY DOG.\"\n",
        "    plain_text = input(\"Enter your plain-text for encryption: \")\n",
        "    return plain_text\n",
        "\n",
        "\n",
        "def get_offset():\n",
        "    # offset = -3    # left shift of 3, A would be replaced by D, B with E...\n",
        "    offset = int(input(\"Enter offset value (e.g. '3' or '-3'): \"))\n",
        "    return offset\n",
        "\n",
        "\n",
        "def caesar_cipher(plain_text, offset):\n",
        "    cipher_text = []\n",
        "    upper_case= \"ABCDEFGHIJKLMNOPQRSTUVWXYZ\"\n",
        "    for text in plain_text:\n",
        "        if text.isalpha():\n",
        "            if offset > 0:\n",
        "                if text.upper() in upper_case[0: offset]:\n",
        "                    for n in range(0, offset):\n",
        "                        if text.upper() == upper_case[n]:\n",
        "                            new_value = upper_case[n - offset]\n",
        "                            cipher_text.append(new_value.upper())\n",
        "                else:\n",
        "                    new_value = ord(text) - offset\n",
        "                    cipher_text.append(chr(new_value).upper())\n",
        "            if offset == 0:\n",
        "                cipher_text.append(text.upper())\n",
        "            if offset < 0:\n",
        "                if text.upper() in upper_case[offset:]:\n",
        "                    for n in range(offset, 0):\n",
        "                        if text.upper() == upper_case[n]:\n",
        "                            new_value = upper_case[n - offset]\n",
        "                            cipher_text.append(new_value)\n",
        "                else:\n",
        "                    new_value = ord(text) - offset\n",
        "                    cipher_text.append(chr(new_value).upper())\n",
        "        else:\n",
        "            cipher_text.append(text.upper())\n",
        "    return cipher_text\n",
        "\n",
        "\n",
        "def print_cipher_text(cipher_text):\n",
        "    for item in cipher_text:\n",
        "        print(item, end=\"\")\n",
        "\n",
        "\n",
        "def run_caesar_cipher():\n",
        "    pt = get_plain_text()\n",
        "    offset = get_offset()\n",
        "    ct = caesar_cipher(pt, offset)\n",
        "    print_cipher_text(ct)\n",
        "\n",
        "\n",
        "run_caesar_cipher()  # function call"
      ],
      "metadata": {
        "colab": {
          "base_uri": "https://localhost:8080/"
        },
        "id": "EaZpsym8D3os",
        "outputId": "ed859338-5aa1-4eb1-ec41-f88d7379d1b6"
      },
      "execution_count": null,
      "outputs": [
        {
          "output_type": "stream",
          "name": "stdout",
          "text": [
            "Enter your plain-text for encryption: offset\n",
            "Enter offset value (e.g. '3' or '-3'): 0\n",
            "OFFSET"
          ]
        }
      ]
    }
  ]
}