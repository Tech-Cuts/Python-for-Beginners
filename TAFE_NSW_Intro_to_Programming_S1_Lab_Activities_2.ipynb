{
  "nbformat": 4,
  "nbformat_minor": 0,
  "metadata": {
    "colab": {
      "provenance": [],
      "authorship_tag": "ABX9TyOZ4JJi5ZaJrd1KwBz5iwEQ",
      "include_colab_link": true
    },
    "kernelspec": {
      "name": "python3",
      "display_name": "Python 3"
    },
    "language_info": {
      "name": "python"
    }
  },
  "cells": [
    {
      "cell_type": "markdown",
      "metadata": {
        "id": "view-in-github",
        "colab_type": "text"
      },
      "source": [
        "<a href=\"https://colab.research.google.com/github/ComputingUntangled/Python-for-Beginners/blob/main/TAFE_NSW_Intro_to_Programming_S1_Lab_Activities_2.ipynb\" target=\"_parent\"><img src=\"https://colab.research.google.com/assets/colab-badge.svg\" alt=\"Open In Colab\"/></a>"
      ]
    },
    {
      "cell_type": "markdown",
      "source": [
        "# Create Python programs to do the following:\n",
        "\n",
        "Simple exercises designed to get beginners familiar with Python programming:"
      ],
      "metadata": {
        "id": "Ht-78Qu8COuh"
      }
    },
    {
      "cell_type": "markdown",
      "source": [
        "## 1. Personal Information\n",
        "\n",
        "Write a program that displays the following information:\n",
        "*   Your name\n",
        "*   Your address, with city, state, and ZIP\n",
        "*   Your telephone number\n",
        "*   Your college major\n",
        "\n",
        "\n",
        "\n",
        "\n",
        "\n",
        "\n",
        "\n",
        "\n",
        "\n"
      ],
      "metadata": {
        "id": "0yNfIiClBvg5"
      }
    },
    {
      "cell_type": "code",
      "execution_count": null,
      "metadata": {
        "colab": {
          "base_uri": "https://localhost:8080/"
        },
        "id": "4LW2niqsBuF-",
        "outputId": "81ed3c84-465b-449a-c7c9-a8c9f8f531b0"
      },
      "outputs": [
        {
          "output_type": "stream",
          "name": "stdout",
          "text": [
            "Name: \t\tJohn Doe\n",
            "Address: \t123 Test Street, NY, 10000\n",
            "Phone: \t\t123-456-7890\n",
            "College Major: \tMBA\n"
          ]
        }
      ],
      "source": [
        "personal_info = {\"Name\": \"John Doe\", \"Address\": \"123 Test Street, NY, 10000\",\n",
        "\"Phone\": \"123-456-7890\", \"College Major\": \"MBA\"}\n",
        "\n",
        "print(\"Name: \\t\\t\" + personal_info[\"Name\"].title())\n",
        "print(\"Address: \\t\" + personal_info[\"Address\"])\n",
        "print(\"Phone: \\t\\t\" + personal_info[\"Phone\"].title())\n",
        "print(\"College Major: \\t\" + personal_info[\"College Major\"].upper())"
      ]
    },
    {
      "cell_type": "markdown",
      "source": [
        "## 2. Sales Prediction\n",
        "\n",
        "A company has determined that its annual profit is typically 23 percent of total sales. Write a program that asks the user to enter the projected amount of total sales, then displays the profit that will be made from that amount.\n",
        "\n",
        "Hint: Use the value 0.23 to represent 23 percent."
      ],
      "metadata": {
        "id": "bjjKBr_kBwa6"
      }
    },
    {
      "cell_type": "code",
      "source": [
        "total_sales = float(input(\"Enter the projected amount of total sales: \")) # test 1000\n",
        "\n",
        "annual_profit = 0.23 * total_sales\n",
        "print(f\"Annual profit for the projected total sales of {total_sales} is {annual_profit}.\")"
      ],
      "metadata": {
        "colab": {
          "base_uri": "https://localhost:8080/"
        },
        "id": "I4PM_mCXBw9a",
        "outputId": "c34caed4-e8bf-41c2-a726-137e19372469"
      },
      "execution_count": null,
      "outputs": [
        {
          "output_type": "stream",
          "name": "stdout",
          "text": [
            "Enter the projected amount of total sales: 1000\n",
            "Annual profit for the projected total sales of 1000.0 is 230.0.\n"
          ]
        }
      ]
    },
    {
      "cell_type": "markdown",
      "source": [
        "## 3. Pounds to Kilograms\n",
        "\n",
        "One pound is equivalent to 0.454 kilograms. Write a program that asks the user to enter the mass of an object in pounds and then calculates and displays the mass of the object in kilograms."
      ],
      "metadata": {
        "id": "FmD8v9UTCabo"
      }
    },
    {
      "cell_type": "code",
      "source": [
        "mass_in_lbs = float(input(\"Enter the mass of an object in pounds: \"))\n",
        "\n",
        "mass_in_kgs = mass_in_lbs * 0.454\n",
        "print(f\"The mass of the object in kilograms is {mass_in_kgs}.\")"
      ],
      "metadata": {
        "colab": {
          "base_uri": "https://localhost:8080/"
        },
        "id": "nI3BBfIwCa9a",
        "outputId": "a17b03f9-d7c1-46aa-df39-f5f06cfcacc8"
      },
      "execution_count": null,
      "outputs": [
        {
          "output_type": "stream",
          "name": "stdout",
          "text": [
            "Enter the mass of an object in pounds: 100\n",
            "The mass of the object in kilograms is 45.4.\n"
          ]
        }
      ]
    },
    {
      "cell_type": "markdown",
      "source": [
        "## 4. Total Purchase\n",
        "\n",
        "A customer in a store is purchasing five items. Write a program that asks for the price of each item, then displays the subtotal of the sale, the amount of **sales tax, and the total**.\n",
        "\n",
        "Assume the sales tax is 7 percent."
      ],
      "metadata": {
        "id": "iLKB3ykKCWFu"
      }
    },
    {
      "cell_type": "code",
      "source": [
        "subtotal = 0\n",
        "for i in range(5):  # test with 10, 20, 30, 20, 20\n",
        "  subtotal = subtotal + float(input(f\"Enter the price of item #{i+1} :\"))\n",
        "\n",
        "print(f\"The subtotal of the sale is ${subtotal}.\")\n",
        "print(f\"The sales tax is ${subtotal * 0.07}.\")\n",
        "print(f\"The total after tax is ${subtotal * 1.07}.\")"
      ],
      "metadata": {
        "colab": {
          "base_uri": "https://localhost:8080/"
        },
        "id": "m__ZOI5qCWaE",
        "outputId": "d5983951-8484-4a8c-ded2-10d491db7d58"
      },
      "execution_count": null,
      "outputs": [
        {
          "output_type": "stream",
          "name": "stdout",
          "text": [
            "Enter the price of item #1 :10\n",
            "Enter the price of item #2 :20\n",
            "Enter the price of item #3 :30\n",
            "Enter the price of item #4 :20\n",
            "Enter the price of item #5 :20\n",
            "The subtotal of the sale is $100.0.\n",
            "The sales tax is $7.000000000000001.\n",
            "The total after tax is $107.0.\n"
          ]
        }
      ]
    },
    {
      "cell_type": "markdown",
      "source": [
        "## 5. Distance Traveled\n",
        "\n",
        "Assuming there are no accidents or delays, the distance that a car travels down the interstate can be calculated with the following formula:\n",
        "Distance = Speed * Time\n",
        "\n",
        "A car is traveling at 70 miles per hour. Write a program that displays the following:\n",
        "\n",
        "The distance the car will travel in 6 hours\n",
        "The distance the car will travel in 10 hours\n",
        "The distance the car will travel in 15 hours"
      ],
      "metadata": {
        "id": "xWm3Mg05CWym"
      }
    },
    {
      "cell_type": "code",
      "source": [
        "print(f\"In 6 hours, the car will travel {70 * 6} miles.\")\n",
        "print(f\"In 10 hours, the car will travel {70 * 10} miles.\")\n",
        "print(f\"In 15 hours, the car will travel {70 * 15} miles.\")"
      ],
      "metadata": {
        "colab": {
          "base_uri": "https://localhost:8080/"
        },
        "id": "wimDe2JDCXE8",
        "outputId": "71f63db5-d660-4775-83d2-07115dd804b9"
      },
      "execution_count": null,
      "outputs": [
        {
          "output_type": "stream",
          "name": "stdout",
          "text": [
            "In 6 hours, the car will travel 420 miles.\n",
            "In 10 hours, the car will travel 700 miles.\n",
            "In 15 hours, the car will travel 1050 miles.\n"
          ]
        }
      ]
    },
    {
      "cell_type": "markdown",
      "source": [
        "## 6. Payment Instalments\n",
        "\n",
        "Write a program that asks the user to enter the amount of a purchase and the desired number of payment instalments. The program should add 5 percent to the amount to get the total purchase amount, and then divide it by the desired number of instalments, then display messages telling the user the total amount of the purchase and how much each instalment will cost."
      ],
      "metadata": {
        "id": "ccpEpRzjCXZo"
      }
    },
    {
      "cell_type": "code",
      "source": [
        "purchase_amount = float(input(\"Enter the amount of a purchase: \"))  # test 4200\n",
        "desired_instalments = int(input(\"Enter desired number of payment instalments: \"))\n",
        "\n",
        "total_purchase_amount = purchase_amount * 1.05\n",
        "if desired_instalments > 0:\n",
        "  instalment_cost = total_purchase_amount/desired_instalments\n",
        "  print(f\"Total amount of the purchase is: {total_purchase_amount}.\")\n",
        "  print(f\"Each instalment will cost ${instalment_cost}.\")\n",
        "else:\n",
        "  print(\"Invalid input on number of payment instalments\")"
      ],
      "metadata": {
        "colab": {
          "base_uri": "https://localhost:8080/"
        },
        "id": "2rmjYoh7CYDe",
        "outputId": "664fbfee-76d7-475a-afc9-f2b5561cc604"
      },
      "execution_count": null,
      "outputs": [
        {
          "output_type": "stream",
          "name": "stdout",
          "text": [
            "Enter the amount of a purchase: 4200\n",
            "Enter desired number of payment instalments: 0\n",
            "Invalid input on number of payment instalments\n"
          ]
        }
      ]
    },
    {
      "cell_type": "markdown",
      "source": [
        "## 7. Miles-per-Gallon\n",
        "\n",
        "A car's miles-per-gallon (MPG) can be calculated with the following formula:\n",
        "\n",
        "* MPG 5 Miles driven 4 Gallons of gas used.\n",
        "\n",
        "Write a program that asks the user for the number of miles driven and the gallons of gas used. It should calculate the car's MPG and display the result."
      ],
      "metadata": {
        "id": "xA1aioXRCYq-"
      }
    },
    {
      "cell_type": "code",
      "source": [
        "miles_driven = float(input(\"Enter the number of miles driven: \"))  # test 4200\n",
        "gallons_gas_used = float(input(\"Enter gallons of gas used: \"))    # test 10\n",
        "\n",
        "print(f\"The car's miles-per-gallon (MPG) is: {miles_driven/gallons_gas_used}.\")"
      ],
      "metadata": {
        "colab": {
          "base_uri": "https://localhost:8080/"
        },
        "id": "ZZFVRPXVCZWO",
        "outputId": "78441cea-90cf-423d-c504-02c06831baba"
      },
      "execution_count": null,
      "outputs": [
        {
          "output_type": "stream",
          "name": "stdout",
          "text": [
            "Enter the number of miles driven: 4200\n",
            "Enter gallons of gas used: 10\n",
            "The car's miles-per-gallon (MPG) is: 420.0.\n"
          ]
        }
      ]
    },
    {
      "cell_type": "markdown",
      "source": [
        "## 8. Tip, Tax, and Total\n",
        "\n",
        "Write a program that calculates the total amount of a meal purchased at a restaurant. The program should ask the user to enter the charge for the food, then calculate the amounts of a 18 percent **tip** and 7 percent **sales tax**. Display each of these amounts and the **total**."
      ],
      "metadata": {
        "id": "Tm9rWRHXDfF_"
      }
    },
    {
      "cell_type": "code",
      "source": [
        "food_cost = float(input(f\"Enter the charge for the food: \"))  # test 100\n",
        "\n",
        "tips = 0.18 * food_cost\n",
        "sales_tax = 0.07 * food_cost\n",
        "total = food_cost + tips + sales_tax\n",
        "\n",
        "print(f\"The tips is ${tips}.\")\n",
        "print(f\"The sales tax is ${sales_tax}.\")\n",
        "print(f\"The total amount of a meal purchased, after tips and tax, is ${total}.\")"
      ],
      "metadata": {
        "colab": {
          "base_uri": "https://localhost:8080/"
        },
        "id": "NABM29R-Dfct",
        "outputId": "beda0595-ec9b-494d-a718-0f0afd772aca"
      },
      "execution_count": null,
      "outputs": [
        {
          "output_type": "stream",
          "name": "stdout",
          "text": [
            "Enter the charge for the food: 100\n",
            "The tips is $18.0.\n",
            "The sales tax is $7.000000000000001.\n",
            "The total amount of a meal purchased, after tips and tax, is $125.0.\n"
          ]
        }
      ]
    },
    {
      "cell_type": "markdown",
      "source": [
        "## 9. Circle Measurements\n",
        "\n",
        "Write a program that asks the user to enter the radius of a circle. The program should calculate and display the **area and circumference of the circle** using πr2 for the area and 2πr for the circumference.\n",
        "\n",
        "Hint: You can either use 3.14159 as the value of pi (π), or add the statement \"import math\" to the start of the program and then use \"math.pi\" wherever you need the value of pi in the program."
      ],
      "metadata": {
        "id": "wM8IAykFDgT1"
      }
    },
    {
      "cell_type": "code",
      "source": [
        "import math\n",
        "\n",
        "r = float(input(f\"Enter the radius of a circle: \"))  # test 10\n",
        "\n",
        "area = (math.pi *r**2)\n",
        "circumference = 2 *(math.pi) * r\n",
        "\n",
        "print(f\"The area of the circle is: {area}.\")\n",
        "print(f\"The circumference of the circle is: {circumference}.\")"
      ],
      "metadata": {
        "colab": {
          "base_uri": "https://localhost:8080/"
        },
        "id": "R7HUBHfRDgoV",
        "outputId": "bde47c21-cf33-415c-a33a-899a7c2d1201"
      },
      "execution_count": null,
      "outputs": [
        {
          "output_type": "stream",
          "name": "stdout",
          "text": [
            "Enter the radius of a circle: 10\n",
            "The area of the circle is: 314.1592653589793.\n",
            "The circumference of the circle is: 62.83185307179586.\n"
          ]
        }
      ]
    },
    {
      "cell_type": "markdown",
      "source": [
        "## 10. Ingredient Adjuster\n",
        "\n",
        "A cookie recipe calls for the following ingredients:\n",
        "*   1.5 cups of sugar\n",
        "*   1 cup of butter\n",
        "*   2.75 cups of flour\n",
        "\n",
        "The recipe produces 48 cookies with this amount of the ingredients. Write a program that asks the user how many cookies he or she wants to make, then displays the number of cups of each ingredient needed for the specified number of cookies."
      ],
      "metadata": {
        "id": "ESV0uTXnD8Hq"
      }
    },
    {
      "cell_type": "code",
      "source": [
        "n = float(input(f\"Enter the number of cookies to make: \"))  # test 480\n",
        "\n",
        "sugar_needed = n * 1.5 / 48\n",
        "butter_needed = n / 48\n",
        "flour_needed = n * 2.75 / 48\n",
        "\n",
        "print(f\"To make {n} cookies, you need the following: \")\n",
        "print(f\"\\t{sugar_needed} cups of sugar,\")\n",
        "print(f\"\\t{butter_needed} cups of buter, and\")\n",
        "print(f\"\\t{flour_needed} cups of flour.\")"
      ],
      "metadata": {
        "colab": {
          "base_uri": "https://localhost:8080/"
        },
        "id": "TJIa1NH1D8a4",
        "outputId": "e15620ff-8864-4aa6-b03a-de89958516c4"
      },
      "execution_count": null,
      "outputs": [
        {
          "output_type": "stream",
          "name": "stdout",
          "text": [
            "Enter the number of cookies to make: 480\n",
            "To make 480.0 cookies, you need the following: \n",
            "\t15.0 cups of sugar,\n",
            "\t10.0 cups of buter, and\n",
            "\t27.5 cups of flour.\n"
          ]
        }
      ]
    }
  ]
}